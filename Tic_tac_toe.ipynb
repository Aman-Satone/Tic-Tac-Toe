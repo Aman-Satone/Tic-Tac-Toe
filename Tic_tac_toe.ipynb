{
 "cells": [
  {
   "cell_type": "code",
   "execution_count": 3,
   "id": "791ba599-5a15-4b37-9371-4d6abe3c6a19",
   "metadata": {},
   "outputs": [
    {
     "name": "stdout",
     "output_type": "stream",
     "text": [
      "Welcome to the Game\n",
      " 0 | 1 | 2 \n",
      "---|---|---\n",
      " 3 | 4 | 5 \n",
      "---|---|---\n",
      " 6 | 7 | 8 \n",
      "\n",
      "X's Chance\n"
     ]
    },
    {
     "name": "stdin",
     "output_type": "stream",
     "text": [
      "\n",
      "Please enter a value:  0\n"
     ]
    },
    {
     "name": "stdout",
     "output_type": "stream",
     "text": [
      " X | 1 | 2 \n",
      "---|---|---\n",
      " 3 | 4 | 5 \n",
      "---|---|---\n",
      " 6 | 7 | 8 \n",
      "\n",
      "Z's Chance\n"
     ]
    },
    {
     "name": "stdin",
     "output_type": "stream",
     "text": [
      "\n",
      "Please enter a value:  4\n"
     ]
    },
    {
     "name": "stdout",
     "output_type": "stream",
     "text": [
      " X | 1 | 2 \n",
      "---|---|---\n",
      " 3 | O | 5 \n",
      "---|---|---\n",
      " 6 | 7 | 8 \n",
      "\n",
      "X's Chance\n"
     ]
    },
    {
     "name": "stdin",
     "output_type": "stream",
     "text": [
      "\n",
      "Please enter a value:  8\n"
     ]
    },
    {
     "name": "stdout",
     "output_type": "stream",
     "text": [
      " X | 1 | 2 \n",
      "---|---|---\n",
      " 3 | O | 5 \n",
      "---|---|---\n",
      " 6 | 7 | X \n",
      "\n",
      "Z's Chance\n"
     ]
    },
    {
     "name": "stdin",
     "output_type": "stream",
     "text": [
      "\n",
      "Please enter a value:  6\n"
     ]
    },
    {
     "name": "stdout",
     "output_type": "stream",
     "text": [
      " X | 1 | 2 \n",
      "---|---|---\n",
      " 3 | O | 5 \n",
      "---|---|---\n",
      " O | 7 | X \n",
      "\n",
      "X's Chance\n"
     ]
    },
    {
     "name": "stdin",
     "output_type": "stream",
     "text": [
      "\n",
      "Please enter a value:  2\n"
     ]
    },
    {
     "name": "stdout",
     "output_type": "stream",
     "text": [
      " X | 1 | X \n",
      "---|---|---\n",
      " 3 | O | 5 \n",
      "---|---|---\n",
      " O | 7 | X \n",
      "\n",
      "Z's Chance\n"
     ]
    },
    {
     "name": "stdin",
     "output_type": "stream",
     "text": [
      "\n",
      "Please enter a value:  1\n"
     ]
    },
    {
     "name": "stdout",
     "output_type": "stream",
     "text": [
      " X | O | X \n",
      "---|---|---\n",
      " 3 | O | 5 \n",
      "---|---|---\n",
      " O | 7 | X \n",
      "\n",
      "X's Chance\n"
     ]
    },
    {
     "name": "stdin",
     "output_type": "stream",
     "text": [
      "\n",
      "Please enter a value:  5\n"
     ]
    },
    {
     "name": "stdout",
     "output_type": "stream",
     "text": [
      " X | O | X \n",
      "---|---|---\n",
      " 3 | O | X \n",
      "---|---|---\n",
      " O | 7 | X \n",
      "X Won the match\n",
      "Match over\n"
     ]
    }
   ],
   "source": [
    "import os\n",
    "\n",
    "def printBoard(gameValues):\n",
    "    # Printing Board By using gameValues 's List\n",
    "    print(f\" {gameValues[0]} | {gameValues[1]} | {gameValues[2]} \")\n",
    "    print(f\"---|---|---\")\n",
    "    print(f\" {gameValues[3]} | {gameValues[4]} | {gameValues[5]} \")\n",
    "    print(f\"---|---|---\")\n",
    "    print(f\" {gameValues[6]} | {gameValues[7]} | {gameValues[8]} \")\n",
    "\n",
    "def checkWin(gameValues):\n",
    "    # All Winning Patterns\n",
    "    wins = [[0, 1, 2], [3, 4, 5], [6, 7, 8], [0, 3, 6], [1, 4, 7], [2, 5, 8], [0, 4, 8], [2, 4, 6]]\n",
    "\n",
    "    for win in wins:\n",
    "        # if gameValues matches with the pattern and has X then X won the Match\n",
    "        if(gameValues[win[0]] == gameValues[win[1]] == gameValues[win[2]] == 'X'):\n",
    "            printBoard(gameValues)\n",
    "            print(\"X Won the match\")\n",
    "            return 1\n",
    "\n",
    "        # if gameValues matches with the pattern and has X then O won the Match\n",
    "        if(gameValues[win[0]] == gameValues[win[1]] == gameValues[win[2]] == 'O'):\n",
    "            printBoard(gameValues)\n",
    "            print(\"O Won the match\")\n",
    "            return 0\n",
    "\n",
    "        # if all places are filled and no one is the winner\n",
    "        if all(isinstance(item, str) for item in gameValues):\n",
    "            printBoard(gameValues)\n",
    "            return -2\n",
    "    # return -1 if no one wons\n",
    "    return -1\n",
    "\n",
    "if __name__ == '__main__':\n",
    "    print(\"Welcome to the Game\")\n",
    "    gameValues=[0, 1, 2, 3, 4, 5, 6, 7, 8]\n",
    "    chance = 1\n",
    "\n",
    "    while(True):\n",
    "        try:\n",
    "            if chance == 1:\n",
    "                printBoard(gameValues)\n",
    "                print(\"\\nX's Chance\")\n",
    "                value = int(input(\"\\nPlease enter a value: \"))\n",
    "\n",
    "                # check if already filled with O\n",
    "                if gameValues[value]!= 'O':\n",
    "                    gameValues[value] = 'X'\n",
    "                else:\n",
    "                    os.system('CLS')\n",
    "                    print(\"\\nPlease Enter Different Location for X\")\n",
    "                    continue\n",
    "                os.system('CLS')\n",
    "\n",
    "            if chance == 0:\n",
    "                printBoard(gameValues)\n",
    "                print(\"\\nZ's Chance\")\n",
    "                value = int(input(\"\\nPlease enter a value: \"))\n",
    "\n",
    "                # check if already filled with X\n",
    "                if gameValues[value]!= 'X':\n",
    "                    gameValues[value] = 'O'\n",
    "                else:\n",
    "                    os.system('CLS')\n",
    "                    print(\"\\nPlease Enter Different Location for O\")\n",
    "                    continue\n",
    "                os.system('CLS')\n",
    "\n",
    "        except IndexError:\n",
    "            # exception if Value is not between 0 to 8 \n",
    "            os.system('CLS')\n",
    "            print(\"\\nOops!! Please Enter value from 0 - 8\\n\")\n",
    "            continue\n",
    "\n",
    "        # for giving chance to other player\n",
    "        chance = 1 - chance\n",
    "        cwin = checkWin(gameValues)\n",
    "        # Game Draw\n",
    "        if(cwin == -2):\n",
    "            print(\"Game Draw\")\n",
    "            break\n",
    "        # Match Over\n",
    "        if(cwin != -1):\n",
    "            print(\"Match over\")\n",
    "            break"
   ]
  }
 ],
 "metadata": {
  "kernelspec": {
   "display_name": "Python 3 (ipykernel)",
   "language": "python",
   "name": "python3"
  },
  "language_info": {
   "codemirror_mode": {
    "name": "ipython",
    "version": 3
   },
   "file_extension": ".py",
   "mimetype": "text/x-python",
   "name": "python",
   "nbconvert_exporter": "python",
   "pygments_lexer": "ipython3",
   "version": "3.13.1"
  }
 },
 "nbformat": 4,
 "nbformat_minor": 5
}
